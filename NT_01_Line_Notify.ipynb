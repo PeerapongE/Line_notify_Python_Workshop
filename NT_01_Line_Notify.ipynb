{
 "cells": [
  {
   "cell_type": "markdown",
   "metadata": {},
   "source": [
    "# Data in Action: Scraping and Notification\n",
    "## LINE notify\n",
    "\n",
    "<img src=\"Pic_data/Python_Logo.png\">\n",
    "\n",
    "\n",
    "<img src=\"Pic_data/PY-01_Elephant.jpg\" style=\"width: 500px;\">\n",
    "\n",
    "https://www.facebook.com/elephant.data.th/"
   ]
  },
  {
   "cell_type": "markdown",
   "metadata": {},
   "source": [
    "# ต่อยอดจากการทำ Web Scraping: ส่งข้อมูล Notify เข้ามือถือ เรา ผ่าน LINE"
   ]
  },
  {
   "cell_type": "code",
   "execution_count": 1,
   "metadata": {},
   "outputs": [],
   "source": [
    "import urllib\n",
    "import urllib.parse\n",
    "import json\n",
    "import time\n",
    "import requests"
   ]
  },
  {
   "cell_type": "markdown",
   "metadata": {},
   "source": [
    "# LINE notify คืออะไร\n",
    "\n",
    "## Reading reference: \n",
    "\n",
    "วิธีการทำ LINE notify ใน medium\n",
    "https://medium.com/@nattaponsirikamonnet/%E0%B8%A1%E0%B8%B2%E0%B8%A5%E0%B8%AD%E0%B8%87-line-notify-%E0%B8%81%E0%B8%B1%E0%B8%99%E0%B9%80%E0%B8%96%E0%B8%AD%E0%B8%B0-%E0%B8%9E%E0%B8%B7%E0%B9%89%E0%B8%99%E0%B8%90%E0%B8%B2%E0%B8%99-65a7fc83d97f\n",
    "\n",
    "\n",
    "วิธีการทำ LINE notify กับ sticker\n",
    "\n",
    "https://medium.com/@nattaponsirikamonnet/%E0%B8%A1%E0%B8%B2%E0%B8%A5%E0%B8%AD%E0%B8%87-line-notify-%E0%B8%81%E0%B8%B1%E0%B8%99%E0%B9%80%E0%B8%96%E0%B8%AD%E0%B8%B0-sticker-a2d25925d1a1\n",
    "\n",
    "LINE notify document\n",
    "\n",
    "https://notify-bot.line.me/doc/en/\n",
    "\n",
    "\n",
    "\n",
    "เป็นบริการของ LINE ที่ให้สามารถส่งข้อความ การแจ้งเตือนต่าง ๆ ไปยังบัญชีของคุณหรือกลุ่มต่างๆที่คุณอยู่ได้ ผ่านทาง API ที่ LINE ได้เตรียมไว้ให้นั่นเอง\n",
    "\n",
    "อย่างแรกเลยคือ ลอง google คำว่า Line notify\n",
    "\n",
    "<img src = 'pic_data/Mod-05_LineNotify_Google.png'>\n",
    "\n",
    "หรือจะเข้าไปตรงๆ ที่ link ข้างล่างนี้\n",
    "\n",
    "https://notify-bot.line.me/th\n",
    "\n",
    "แล้วก็ทำการ Register เข้าระบบนะครับ ใช้ username กับ password ที่มีใน LINE เลยครับ\n",
    "\n",
    "จากนั้น click เข้า My Page ครับ ตามรูปด้านล่าง\n",
    "\n",
    "<img src = 'pic_data/Mod-05_LineNotify_Register.png'>\n",
    "\n",
    "แล้วก็กด Generate Token ด้านล่างเลยครับ\n",
    "\n",
    "<img src = 'pic_data/Mod-05_LineNotify_GetToken.png'>\n",
    "\n",
    "แล้วก็เลือกกลุ่มที่จะให้ Line ขึ้น notify, ในกรณีนี้เราเลือกให้ มัน notify กับเราแค่สองคนนะครับ แต่เราสามารถให้ส่ง notify ให้กับกลุ่มที่เราอยู่ได้ โดยการ invite Line Notify ไปในกลุ่มครับ\n",
    "\n",
    "<img src = 'pic_data/Mod-05_LineNotify_TokenGroup.png'>\n",
    "\n",
    "พอหน้าจอนี้โผล่ขึ้นมา อย่าเพิ่งปิดนะครับ ให้ copy token ตัวนี้เอาไว้ ตัว token นี้เปรียบเสมือน password ที่จะทำให้เราส่ง Line notify ได้ครับ ให้ copy token ตัวนี้ใส่ไว้ใน text file เลยครับ\n",
    "\n",
    "<img src = 'pic_data/Mod-05_LineNotify_CopyToken.png'>\n",
    "\n",
    "ทีนี้เราจะเริ่มทำ LINE notify ใน Python เลยครับ"
   ]
  },
  {
   "cell_type": "code",
   "execution_count": 2,
   "metadata": {},
   "outputs": [],
   "source": [
    "# Test LINE notify module\n",
    "# function สำเร็จรูปที่เขียนไว้เพื่อทำ LINE notify input คือ message ที่จะส่ง และ token ที่เราเพิ่งทำกันมาครับ\n",
    "\n",
    "\n",
    "def func_LineNotify(Message,LineToken):\n",
    "    url  = \"https://notify-api.line.me/api/notify\"\n",
    "    data = ({'message':Message})\n",
    "    LINE_HEADERS = {\"Authorization\":\"Bearer \" + LineToken}\n",
    "    session  = requests.Session()\n",
    "    response =session.post(url, headers=LINE_HEADERS, data=data)\n",
    "    return response"
   ]
  },
  {
   "cell_type": "markdown",
   "metadata": {},
   "source": [
    "# LINE Notify in Action"
   ]
  },
  {
   "cell_type": "code",
   "execution_count": 4,
   "metadata": {},
   "outputs": [
    {
     "name": "stdout",
     "output_type": "stream",
     "text": [
      "<Response [200]>\n",
      "Completed Line notify\n"
     ]
    }
   ],
   "source": [
    "# code to put line notify to PM2.5 monitoring\n",
    "Message = 'สวัสดีครับ ผมคือ LINE notify ครับ' # word to perform notify\n",
    "#LineToken = 'kqaip2MMR2l88jkhLvyCI3LdkZL9EGjarvwElTndxYj' #input your token here\n",
    "LineToken = 'DXWHIQQTTKcPj1Wo3RQHmcpI6QxO7mcnyZ7ti7Quogx' #input your token here\n",
    "\n",
    "Response = func_LineNotify(Message,LineToken)\n",
    "print(Response)\n",
    "print('Completed Line notify')"
   ]
  },
  {
   "cell_type": "code",
   "execution_count": 5,
   "metadata": {},
   "outputs": [
    {
     "name": "stdout",
     "output_type": "stream",
     "text": [
      "Line notify iteration # 1\n",
      "Line notify iteration # 2\n",
      "Line notify iteration # 3\n",
      "Line notify iteration # 4\n",
      "Line notify iteration # 5\n",
      "Complete Line notify with loop\n"
     ]
    }
   ],
   "source": [
    "# Line notify can be put inside loop\n",
    "\n",
    "for i in range(0,5):\n",
    "    message = 'Line notify iteration # ' + str(i+1)\n",
    "    Response = func_LineNotify(message,LineToken)\n",
    "    #time.sleep(5 * 60)\n",
    "    print(message)\n",
    "\n",
    "print('Complete Line notify with loop')\n"
   ]
  },
  {
   "cell_type": "markdown",
   "metadata": {},
   "source": [
    "# ทำ LINE notify with Image\n",
    "\n"
   ]
  },
  {
   "cell_type": "code",
   "execution_count": 6,
   "metadata": {},
   "outputs": [],
   "source": [
    "#import sys\n",
    "def func_LineNotifyImage(Message,ImagePath,LineToken):\n",
    "    #LineToken = 'CNAt2DQcW9B3w9KDz56nbMfeNy53D5lpVPEqwdwrVd3'\n",
    "    url  = \"https://notify-api.line.me/api/notify\"\n",
    "    file = {'imageFile':open(ImagePath,'rb')} # 'imageFile','imageFullsize'\n",
    "    data = {'message':Message}\n",
    "    LINE_HEADERS = {\"Authorization\":\"Bearer \" + LineToken}\n",
    "    session  = requests.Session()\n",
    "    response =session.post(url, headers=LINE_HEADERS, files=file, data=data)\n",
    "    return response"
   ]
  },
  {
   "cell_type": "code",
   "execution_count": 7,
   "metadata": {},
   "outputs": [
    {
     "name": "stdout",
     "output_type": "stream",
     "text": [
      "<Response [200]>\n"
     ]
    }
   ],
   "source": [
    "\n",
    "Message = 'ช่วยพี่ตูนกับโครงการ \"ก้าว คนละก้าว\" ยังมีเวลา จนถึง 31 พฤษภาคม 2561'\n",
    "ImagePath = 'pic_data//Mod-05_KaoKonlaKao.jpg'\n",
    "respone_pic = func_LineNotifyImage(Message,ImagePath,LineToken)\n",
    "print(respone_pic)"
   ]
  },
  {
   "cell_type": "markdown",
   "metadata": {},
   "source": [
    "# ทำ LINE notify with Sticker"
   ]
  },
  {
   "cell_type": "markdown",
   "metadata": {},
   "source": [
    "<img src = 'pic_data/Mod_05_StickerID.png'>\n",
    "\n"
   ]
  },
  {
   "cell_type": "code",
   "execution_count": 8,
   "metadata": {},
   "outputs": [],
   "source": [
    "# path to check sticker ID\n",
    "# https://devdocs.line.me/files/sticker_list.pdf\n",
    "def func_LineNotifyStk(Message,LineToken,StkPck,StkId):\n",
    "    url  = \"https://notify-api.line.me/api/notify\"\n",
    "    \n",
    "    LINE_HEADERS = {\"Authorization\":\"Bearer \" + LineToken}\n",
    "    data = {'message':Message,'stickerPackageId' :StkPck, 'stickerId' :StkId}\n",
    "    session  = requests.Session()\n",
    "    response =session.post(url, headers=LINE_HEADERS, data=data)\n",
    "    return response"
   ]
  },
  {
   "cell_type": "code",
   "execution_count": 9,
   "metadata": {},
   "outputs": [],
   "source": [
    "Message   = 'คิดถึงตะเองน้าาาา คิดถึงทุกชั่วโมงเบยยยย'\n",
    "StkPck    = 1\n",
    "StkId     = 5\n",
    "\n",
    "res = func_LineNotifyStk(Message,LineToken,StkPck,StkId)"
   ]
  },
  {
   "cell_type": "markdown",
   "metadata": {
    "collapsed": true
   },
   "source": [
    "# ตัวอย่างการทำ Scrape Notify:\n",
    "\n",
    "ดึงข้อมูลอากาศมาเช็คทุกๆ 10 นาท่ี ถ้ามีการเปลี่ยนแปลง และมีค่าอันตราย ให้แจ้งเตือนมาใน LINE จะได้ไม่ออกไปนอกอาคาร"
   ]
  },
  {
   "cell_type": "markdown",
   "metadata": {},
   "source": [
    "<img src = 'pic_data/Mod-05_AQINotify.png'>\n",
    "\n",
    "\n"
   ]
  },
  {
   "cell_type": "markdown",
   "metadata": {},
   "source": [
    "# ตัวอย่างการทำ Notify 2\n",
    "ดึงข้อมูลวิ่งจาก Endomondo รายคน ในทุกกลุ่ม มาดู Statistics ว่า distribution เป็นแบบไหน จำนวนคนที่ Active ต่อคนทั้งหมด เทียบระยะรายวันว่าเป็นอย่างไร \n",
    "\n",
    "1. ดึงข้อมูล Endomondo\n",
    "2. ทำ Data Analytics ใน Python (sns และ matplotlib)\n",
    "3. ส่ง รูปใน LINE notify ทุกๆวัน\n",
    "\n",
    "<img src = 'pic_data/Mod-05_EndoNotify1.png'>\n",
    "\n",
    "<img src = 'pic_data/Mod-05_EndoNotify2.png'>\n",
    "\n",
    "\n",
    "\n"
   ]
  },
  {
   "cell_type": "code",
   "execution_count": null,
   "metadata": {},
   "outputs": [],
   "source": []
  }
 ],
 "metadata": {
  "kernelspec": {
   "display_name": "Python 3",
   "language": "python",
   "name": "python3"
  },
  "language_info": {
   "codemirror_mode": {
    "name": "ipython",
    "version": 3
   },
   "file_extension": ".py",
   "mimetype": "text/x-python",
   "name": "python",
   "nbconvert_exporter": "python",
   "pygments_lexer": "ipython3",
   "version": "3.7.0"
  }
 },
 "nbformat": 4,
 "nbformat_minor": 2
}
